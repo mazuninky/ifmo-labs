{
 "cells": [
  {
   "cell_type": "code",
   "execution_count": 1,
   "metadata": {},
   "outputs": [],
   "source": [
    "import pandas as pd\n",
    "import numpy as np\n",
    "import matplotlib.pylab as plt\n",
    "from matplotlib.pyplot import savefig\n",
    "\n",
    "from matplotlib import pyplot\n",
    "\n",
    "plt.style.use('seaborn')\n",
    "import seaborn as sns"
   ]
  },
  {
   "cell_type": "code",
   "execution_count": 2,
   "metadata": {},
   "outputs": [],
   "source": [
    "data = pd.read_csv('stats.csv', header=None, names = ['read_working', 'read_waiting', 'read_time', 'read_load', 'write_working', 'write_waiting', 'write_time', 'write_load'])"
   ]
  },
  {
   "cell_type": "code",
   "execution_count": 3,
   "metadata": {},
   "outputs": [
    {
     "data": {
      "text/html": [
       "<div>\n",
       "<style scoped>\n",
       "    .dataframe tbody tr th:only-of-type {\n",
       "        vertical-align: middle;\n",
       "    }\n",
       "\n",
       "    .dataframe tbody tr th {\n",
       "        vertical-align: top;\n",
       "    }\n",
       "\n",
       "    .dataframe thead th {\n",
       "        text-align: right;\n",
       "    }\n",
       "</style>\n",
       "<table border=\"1\" class=\"dataframe\">\n",
       "  <thead>\n",
       "    <tr style=\"text-align: right;\">\n",
       "      <th></th>\n",
       "      <th>read_working</th>\n",
       "      <th>read_waiting</th>\n",
       "      <th>read_time</th>\n",
       "      <th>read_load</th>\n",
       "      <th>write_working</th>\n",
       "      <th>write_waiting</th>\n",
       "      <th>write_time</th>\n",
       "      <th>write_load</th>\n",
       "    </tr>\n",
       "  </thead>\n",
       "  <tbody>\n",
       "    <tr>\n",
       "      <th>0</th>\n",
       "      <td>0.0</td>\n",
       "      <td>0.0</td>\n",
       "      <td>0.0</td>\n",
       "      <td>0.0</td>\n",
       "      <td>0.0</td>\n",
       "      <td>0.0</td>\n",
       "      <td>0.0</td>\n",
       "      <td>0.0</td>\n",
       "    </tr>\n",
       "    <tr>\n",
       "      <th>1</th>\n",
       "      <td>0.0</td>\n",
       "      <td>0.0</td>\n",
       "      <td>0.0</td>\n",
       "      <td>0.0</td>\n",
       "      <td>0.0</td>\n",
       "      <td>0.0</td>\n",
       "      <td>0.0</td>\n",
       "      <td>0.0</td>\n",
       "    </tr>\n",
       "    <tr>\n",
       "      <th>2</th>\n",
       "      <td>0.0</td>\n",
       "      <td>0.0</td>\n",
       "      <td>0.0</td>\n",
       "      <td>0.0</td>\n",
       "      <td>0.0</td>\n",
       "      <td>0.0</td>\n",
       "      <td>0.0</td>\n",
       "      <td>0.0</td>\n",
       "    </tr>\n",
       "    <tr>\n",
       "      <th>3</th>\n",
       "      <td>0.0</td>\n",
       "      <td>0.0</td>\n",
       "      <td>0.0</td>\n",
       "      <td>0.0</td>\n",
       "      <td>0.0</td>\n",
       "      <td>0.0</td>\n",
       "      <td>0.0</td>\n",
       "      <td>0.0</td>\n",
       "    </tr>\n",
       "    <tr>\n",
       "      <th>4</th>\n",
       "      <td>0.0</td>\n",
       "      <td>0.0</td>\n",
       "      <td>0.0</td>\n",
       "      <td>0.0</td>\n",
       "      <td>0.0</td>\n",
       "      <td>0.0</td>\n",
       "      <td>0.0</td>\n",
       "      <td>0.0</td>\n",
       "    </tr>\n",
       "  </tbody>\n",
       "</table>\n",
       "</div>"
      ],
      "text/plain": [
       "   read_working  read_waiting  read_time  read_load  write_working  \\\n",
       "0           0.0           0.0        0.0        0.0            0.0   \n",
       "1           0.0           0.0        0.0        0.0            0.0   \n",
       "2           0.0           0.0        0.0        0.0            0.0   \n",
       "3           0.0           0.0        0.0        0.0            0.0   \n",
       "4           0.0           0.0        0.0        0.0            0.0   \n",
       "\n",
       "   write_waiting  write_time  write_load  \n",
       "0            0.0         0.0         0.0  \n",
       "1            0.0         0.0         0.0  \n",
       "2            0.0         0.0         0.0  \n",
       "3            0.0         0.0         0.0  \n",
       "4            0.0         0.0         0.0  "
      ]
     },
     "execution_count": 3,
     "metadata": {},
     "output_type": "execute_result"
    }
   ],
   "source": [
    "data.head()"
   ]
  },
  {
   "cell_type": "code",
   "execution_count": 4,
   "metadata": {},
   "outputs": [],
   "source": [
    "remove_zero = data[(data.T != 0).any()]"
   ]
  },
  {
   "cell_type": "code",
   "execution_count": 5,
   "metadata": {},
   "outputs": [
    {
     "data": {
      "text/html": [
       "<div>\n",
       "<style scoped>\n",
       "    .dataframe tbody tr th:only-of-type {\n",
       "        vertical-align: middle;\n",
       "    }\n",
       "\n",
       "    .dataframe tbody tr th {\n",
       "        vertical-align: top;\n",
       "    }\n",
       "\n",
       "    .dataframe thead th {\n",
       "        text-align: right;\n",
       "    }\n",
       "</style>\n",
       "<table border=\"1\" class=\"dataframe\">\n",
       "  <thead>\n",
       "    <tr style=\"text-align: right;\">\n",
       "      <th></th>\n",
       "      <th>read_working</th>\n",
       "      <th>read_waiting</th>\n",
       "      <th>read_time</th>\n",
       "      <th>read_load</th>\n",
       "      <th>write_working</th>\n",
       "      <th>write_waiting</th>\n",
       "      <th>write_time</th>\n",
       "      <th>write_load</th>\n",
       "    </tr>\n",
       "  </thead>\n",
       "  <tbody>\n",
       "    <tr>\n",
       "      <th>4856</th>\n",
       "      <td>0.000213</td>\n",
       "      <td>0.000006</td>\n",
       "      <td>0.000219</td>\n",
       "      <td>0.972603</td>\n",
       "      <td>0.0</td>\n",
       "      <td>0.0</td>\n",
       "      <td>0.0</td>\n",
       "      <td>0.972603</td>\n",
       "    </tr>\n",
       "    <tr>\n",
       "      <th>4857</th>\n",
       "      <td>0.000618</td>\n",
       "      <td>0.000012</td>\n",
       "      <td>0.000630</td>\n",
       "      <td>0.980952</td>\n",
       "      <td>0.0</td>\n",
       "      <td>0.0</td>\n",
       "      <td>0.0</td>\n",
       "      <td>0.980952</td>\n",
       "    </tr>\n",
       "    <tr>\n",
       "      <th>4858</th>\n",
       "      <td>0.000795</td>\n",
       "      <td>0.000012</td>\n",
       "      <td>0.000807</td>\n",
       "      <td>0.985130</td>\n",
       "      <td>0.0</td>\n",
       "      <td>0.0</td>\n",
       "      <td>0.0</td>\n",
       "      <td>0.985130</td>\n",
       "    </tr>\n",
       "    <tr>\n",
       "      <th>4859</th>\n",
       "      <td>0.000795</td>\n",
       "      <td>0.000012</td>\n",
       "      <td>0.000807</td>\n",
       "      <td>0.985130</td>\n",
       "      <td>0.0</td>\n",
       "      <td>0.0</td>\n",
       "      <td>0.0</td>\n",
       "      <td>0.985130</td>\n",
       "    </tr>\n",
       "    <tr>\n",
       "      <th>4860</th>\n",
       "      <td>0.000795</td>\n",
       "      <td>0.000012</td>\n",
       "      <td>0.000807</td>\n",
       "      <td>0.985130</td>\n",
       "      <td>0.0</td>\n",
       "      <td>0.0</td>\n",
       "      <td>0.0</td>\n",
       "      <td>0.985130</td>\n",
       "    </tr>\n",
       "  </tbody>\n",
       "</table>\n",
       "</div>"
      ],
      "text/plain": [
       "      read_working  read_waiting  read_time  read_load  write_working  \\\n",
       "4856      0.000213      0.000006   0.000219   0.972603            0.0   \n",
       "4857      0.000618      0.000012   0.000630   0.980952            0.0   \n",
       "4858      0.000795      0.000012   0.000807   0.985130            0.0   \n",
       "4859      0.000795      0.000012   0.000807   0.985130            0.0   \n",
       "4860      0.000795      0.000012   0.000807   0.985130            0.0   \n",
       "\n",
       "      write_waiting  write_time  write_load  \n",
       "4856            0.0         0.0    0.972603  \n",
       "4857            0.0         0.0    0.980952  \n",
       "4858            0.0         0.0    0.985130  \n",
       "4859            0.0         0.0    0.985130  \n",
       "4860            0.0         0.0    0.985130  "
      ]
     },
     "execution_count": 5,
     "metadata": {},
     "output_type": "execute_result"
    }
   ],
   "source": [
    "remove_zero.head()"
   ]
  },
  {
   "cell_type": "code",
   "execution_count": 6,
   "metadata": {},
   "outputs": [
    {
     "data": {
      "text/plain": [
       "array([<matplotlib.axes._subplots.AxesSubplot object at 0x11d408850>,\n",
       "       <matplotlib.axes._subplots.AxesSubplot object at 0x11d3a4f50>,\n",
       "       <matplotlib.axes._subplots.AxesSubplot object at 0x11d3194d0>,\n",
       "       <matplotlib.axes._subplots.AxesSubplot object at 0x1098442d0>,\n",
       "       <matplotlib.axes._subplots.AxesSubplot object at 0x1097cc050>,\n",
       "       <matplotlib.axes._subplots.AxesSubplot object at 0x109759310>,\n",
       "       <matplotlib.axes._subplots.AxesSubplot object at 0x11d2e6c90>,\n",
       "       <matplotlib.axes._subplots.AxesSubplot object at 0x11d400dd0>],\n",
       "      dtype=object)"
      ]
     },
     "execution_count": 6,
     "metadata": {},
     "output_type": "execute_result"
    },
    {
     "data": {
      "image/png": "[encoded data removed]",
      "text/plain": [
       "<Figure size 1080x576 with 8 Axes>"
      ]
     },
     "metadata": {},
     "output_type": "display_data"
    }
   ],
   "source": [
    "remove_zero.plot(subplots=True, figsize=(15, 8))"
   ]
  }
 ],
 "metadata": {
  "kernelspec": {
   "display_name": "Python 3",
   "language": "python",
   "name": "python3"
  },
  "language_info": {
   "codemirror_mode": {
    "name": "ipython",
    "version": 3
   },
   "file_extension": ".py",
   "mimetype": "text/x-python",
   "name": "python",
   "nbconvert_exporter": "python",
   "pygments_lexer": "ipython3",
   "version": "3.7.5"
  }
 },
 "nbformat": 4,
 "nbformat_minor": 2
}
